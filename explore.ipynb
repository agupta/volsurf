{
 "cells": [
  {
   "cell_type": "markdown",
   "metadata": {},
   "source": [
    "Let's see if we can get options data for AAPL.\n",
    "\n",
    "Free APIs I found:\n",
    "https://eodhistoricaldata.com/financial-apis/stock-options-data/\n",
    "\n",
    "GET this address, (demo key is enough for now):\n",
    "\n",
    "https://eodhistoricaldata.com/api/options/AAPL.US?api_token=OeAFFmMliFG5orCUuwAKQ8l4WWFQ67YX\n"
   ]
  },
  {
   "cell_type": "code",
   "execution_count": 1,
   "metadata": {},
   "outputs": [],
   "source": [
    "%matplotlib inline\n",
    "import requests\n",
    "import pandas as pd\n",
    "import matplotlib.pyplot as plt"
   ]
  },
  {
   "cell_type": "code",
   "execution_count": 2,
   "metadata": {},
   "outputs": [],
   "source": [
    "# using pre downloaded response json file, can be retrieved like this:\n",
    "\n",
    "#requests.get(\"https://eodhistoricaldata.com/api/options/AAPL.US?api_token=OeAFFmMliFG5orCUuwAKQ8l4WWFQ67YX\").json()"
   ]
  },
  {
   "cell_type": "code",
   "execution_count": 3,
   "metadata": {},
   "outputs": [
    {
     "data": {
      "text/html": [
       "<div>\n",
       "<style scoped>\n",
       "    .dataframe tbody tr th:only-of-type {\n",
       "        vertical-align: middle;\n",
       "    }\n",
       "\n",
       "    .dataframe tbody tr th {\n",
       "        vertical-align: top;\n",
       "    }\n",
       "\n",
       "    .dataframe thead th {\n",
       "        text-align: right;\n",
       "    }\n",
       "</style>\n",
       "<table border=\"1\" class=\"dataframe\">\n",
       "  <thead>\n",
       "    <tr style=\"text-align: right;\">\n",
       "      <th></th>\n",
       "      <th>code</th>\n",
       "      <th>exchange</th>\n",
       "      <th>lastTradeDate</th>\n",
       "      <th>lastTradePrice</th>\n",
       "      <th>data</th>\n",
       "    </tr>\n",
       "  </thead>\n",
       "  <tbody>\n",
       "    <tr>\n",
       "      <th>0</th>\n",
       "      <td>AAPL</td>\n",
       "      <td>US</td>\n",
       "      <td>2022-03-29</td>\n",
       "      <td>178.96</td>\n",
       "      <td>{'expirationDate': '2022-04-01', 'impliedVolat...</td>\n",
       "    </tr>\n",
       "    <tr>\n",
       "      <th>1</th>\n",
       "      <td>AAPL</td>\n",
       "      <td>US</td>\n",
       "      <td>2022-03-29</td>\n",
       "      <td>178.96</td>\n",
       "      <td>{'expirationDate': '2022-04-08', 'impliedVolat...</td>\n",
       "    </tr>\n",
       "    <tr>\n",
       "      <th>2</th>\n",
       "      <td>AAPL</td>\n",
       "      <td>US</td>\n",
       "      <td>2022-03-29</td>\n",
       "      <td>178.96</td>\n",
       "      <td>{'expirationDate': '2022-04-14', 'impliedVolat...</td>\n",
       "    </tr>\n",
       "    <tr>\n",
       "      <th>3</th>\n",
       "      <td>AAPL</td>\n",
       "      <td>US</td>\n",
       "      <td>2022-03-29</td>\n",
       "      <td>178.96</td>\n",
       "      <td>{'expirationDate': '2022-04-22', 'impliedVolat...</td>\n",
       "    </tr>\n",
       "    <tr>\n",
       "      <th>4</th>\n",
       "      <td>AAPL</td>\n",
       "      <td>US</td>\n",
       "      <td>2022-03-29</td>\n",
       "      <td>178.96</td>\n",
       "      <td>{'expirationDate': '2022-04-29', 'impliedVolat...</td>\n",
       "    </tr>\n",
       "  </tbody>\n",
       "</table>\n",
       "</div>"
      ],
      "text/plain": [
       "   code exchange lastTradeDate  lastTradePrice  \\\n",
       "0  AAPL       US    2022-03-29          178.96   \n",
       "1  AAPL       US    2022-03-29          178.96   \n",
       "2  AAPL       US    2022-03-29          178.96   \n",
       "3  AAPL       US    2022-03-29          178.96   \n",
       "4  AAPL       US    2022-03-29          178.96   \n",
       "\n",
       "                                                data  \n",
       "0  {'expirationDate': '2022-04-01', 'impliedVolat...  \n",
       "1  {'expirationDate': '2022-04-08', 'impliedVolat...  \n",
       "2  {'expirationDate': '2022-04-14', 'impliedVolat...  \n",
       "3  {'expirationDate': '2022-04-22', 'impliedVolat...  \n",
       "4  {'expirationDate': '2022-04-29', 'impliedVolat...  "
      ]
     },
     "execution_count": 3,
     "metadata": {},
     "output_type": "execute_result"
    }
   ],
   "source": [
    "response = pd.read_json('response.json')\n",
    "response.head()"
   ]
  },
  {
   "cell_type": "code",
   "execution_count": 4,
   "metadata": {},
   "outputs": [
    {
     "data": {
      "text/html": [
       "<div>\n",
       "<style scoped>\n",
       "    .dataframe tbody tr th:only-of-type {\n",
       "        vertical-align: middle;\n",
       "    }\n",
       "\n",
       "    .dataframe tbody tr th {\n",
       "        vertical-align: top;\n",
       "    }\n",
       "\n",
       "    .dataframe thead th {\n",
       "        text-align: right;\n",
       "    }\n",
       "</style>\n",
       "<table border=\"1\" class=\"dataframe\">\n",
       "  <thead>\n",
       "    <tr style=\"text-align: right;\">\n",
       "      <th></th>\n",
       "      <th>expirationDate</th>\n",
       "      <th>impliedVolatility</th>\n",
       "      <th>putVolume</th>\n",
       "      <th>callVolume</th>\n",
       "      <th>putCallVolumeRatio</th>\n",
       "      <th>putOpenInterest</th>\n",
       "      <th>callOpenInterest</th>\n",
       "      <th>putCallOpenInterestRatio</th>\n",
       "      <th>optionsCount</th>\n",
       "      <th>options</th>\n",
       "    </tr>\n",
       "  </thead>\n",
       "  <tbody>\n",
       "    <tr>\n",
       "      <th>CALL</th>\n",
       "      <td>2022-04-01</td>\n",
       "      <td>29.4067</td>\n",
       "      <td>204464</td>\n",
       "      <td>314491</td>\n",
       "      <td>0.650143</td>\n",
       "      <td>157201</td>\n",
       "      <td>195312</td>\n",
       "      <td>0.804871</td>\n",
       "      <td>95</td>\n",
       "      <td>[{'contractName': 'AAPL220401C00105000', 'cont...</td>\n",
       "    </tr>\n",
       "    <tr>\n",
       "      <th>PUT</th>\n",
       "      <td>2022-04-01</td>\n",
       "      <td>29.4067</td>\n",
       "      <td>204464</td>\n",
       "      <td>314491</td>\n",
       "      <td>0.650143</td>\n",
       "      <td>157201</td>\n",
       "      <td>195312</td>\n",
       "      <td>0.804871</td>\n",
       "      <td>95</td>\n",
       "      <td>[{'contractName': 'AAPL220401P00105000', 'cont...</td>\n",
       "    </tr>\n",
       "  </tbody>\n",
       "</table>\n",
       "</div>"
      ],
      "text/plain": [
       "     expirationDate  impliedVolatility  putVolume  callVolume  \\\n",
       "CALL     2022-04-01            29.4067     204464      314491   \n",
       "PUT      2022-04-01            29.4067     204464      314491   \n",
       "\n",
       "      putCallVolumeRatio  putOpenInterest  callOpenInterest  \\\n",
       "CALL            0.650143           157201            195312   \n",
       "PUT             0.650143           157201            195312   \n",
       "\n",
       "      putCallOpenInterestRatio  optionsCount  \\\n",
       "CALL                  0.804871            95   \n",
       "PUT                   0.804871            95   \n",
       "\n",
       "                                                options  \n",
       "CALL  [{'contractName': 'AAPL220401C00105000', 'cont...  \n",
       "PUT   [{'contractName': 'AAPL220401P00105000', 'cont...  "
      ]
     },
     "execution_count": 4,
     "metadata": {},
     "output_type": "execute_result"
    }
   ],
   "source": [
    "front_week = pd.DataFrame(response.loc[0]['data'])\n",
    "front_week"
   ]
  },
  {
   "cell_type": "code",
   "execution_count": 5,
   "metadata": {},
   "outputs": [
    {
     "data": {
      "text/html": [
       "<div>\n",
       "<style scoped>\n",
       "    .dataframe tbody tr th:only-of-type {\n",
       "        vertical-align: middle;\n",
       "    }\n",
       "\n",
       "    .dataframe tbody tr th {\n",
       "        vertical-align: top;\n",
       "    }\n",
       "\n",
       "    .dataframe thead th {\n",
       "        text-align: right;\n",
       "    }\n",
       "</style>\n",
       "<table border=\"1\" class=\"dataframe\">\n",
       "  <thead>\n",
       "    <tr style=\"text-align: right;\">\n",
       "      <th></th>\n",
       "      <th>contractName</th>\n",
       "      <th>contractSize</th>\n",
       "      <th>contractPeriod</th>\n",
       "      <th>currency</th>\n",
       "      <th>type</th>\n",
       "      <th>inTheMoney</th>\n",
       "      <th>lastTradeDateTime</th>\n",
       "      <th>expirationDate</th>\n",
       "      <th>strike</th>\n",
       "      <th>lastPrice</th>\n",
       "      <th>...</th>\n",
       "      <th>delta</th>\n",
       "      <th>gamma</th>\n",
       "      <th>theta</th>\n",
       "      <th>vega</th>\n",
       "      <th>rho</th>\n",
       "      <th>theoretical</th>\n",
       "      <th>intrinsicValue</th>\n",
       "      <th>timeValue</th>\n",
       "      <th>updatedAt</th>\n",
       "      <th>daysBeforeExpiration</th>\n",
       "    </tr>\n",
       "  </thead>\n",
       "  <tbody>\n",
       "    <tr>\n",
       "      <th>0</th>\n",
       "      <td>AAPL220401C00105000</td>\n",
       "      <td>REGULAR</td>\n",
       "      <td>WEEKLY</td>\n",
       "      <td>USD</td>\n",
       "      <td>CALL</td>\n",
       "      <td>TRUE</td>\n",
       "      <td>2022-03-23 10:22:03</td>\n",
       "      <td>2022-04-01</td>\n",
       "      <td>105.0</td>\n",
       "      <td>65.14</td>\n",
       "      <td>...</td>\n",
       "      <td>0.9737</td>\n",
       "      <td>0.0012</td>\n",
       "      <td>-0.3807</td>\n",
       "      <td>0.0112</td>\n",
       "      <td>0</td>\n",
       "      <td>71.150</td>\n",
       "      <td>0</td>\n",
       "      <td>0</td>\n",
       "      <td>2022-03-28 18:54:33</td>\n",
       "      <td>3</td>\n",
       "    </tr>\n",
       "    <tr>\n",
       "      <th>1</th>\n",
       "      <td>AAPL220401C00110000</td>\n",
       "      <td>REGULAR</td>\n",
       "      <td>WEEKLY</td>\n",
       "      <td>USD</td>\n",
       "      <td>CALL</td>\n",
       "      <td>TRUE</td>\n",
       "      <td>2022-03-23 12:03:27</td>\n",
       "      <td>2022-04-01</td>\n",
       "      <td>110.0</td>\n",
       "      <td>61.88</td>\n",
       "      <td>...</td>\n",
       "      <td>0.9951</td>\n",
       "      <td>0.0006</td>\n",
       "      <td>-0.0577</td>\n",
       "      <td>0.0026</td>\n",
       "      <td>0</td>\n",
       "      <td>65.650</td>\n",
       "      <td>0</td>\n",
       "      <td>0</td>\n",
       "      <td>2022-03-28 18:54:33</td>\n",
       "      <td>3</td>\n",
       "    </tr>\n",
       "    <tr>\n",
       "      <th>2</th>\n",
       "      <td>AAPL220401C00115000</td>\n",
       "      <td>REGULAR</td>\n",
       "      <td>WEEKLY</td>\n",
       "      <td>USD</td>\n",
       "      <td>CALL</td>\n",
       "      <td>TRUE</td>\n",
       "      <td>2022-03-23 11:14:37</td>\n",
       "      <td>2022-04-01</td>\n",
       "      <td>115.0</td>\n",
       "      <td>57.38</td>\n",
       "      <td>...</td>\n",
       "      <td>0.9742</td>\n",
       "      <td>0.0015</td>\n",
       "      <td>-0.3026</td>\n",
       "      <td>0.0110</td>\n",
       "      <td>0</td>\n",
       "      <td>61.025</td>\n",
       "      <td>0</td>\n",
       "      <td>0</td>\n",
       "      <td>2022-03-28 18:54:33</td>\n",
       "      <td>3</td>\n",
       "    </tr>\n",
       "    <tr>\n",
       "      <th>3</th>\n",
       "      <td>AAPL220401C00120000</td>\n",
       "      <td>REGULAR</td>\n",
       "      <td>WEEKLY</td>\n",
       "      <td>USD</td>\n",
       "      <td>CALL</td>\n",
       "      <td>TRUE</td>\n",
       "      <td>2022-03-28 09:35:31</td>\n",
       "      <td>2022-04-01</td>\n",
       "      <td>120.0</td>\n",
       "      <td>53.73</td>\n",
       "      <td>...</td>\n",
       "      <td>0.9964</td>\n",
       "      <td>0.0006</td>\n",
       "      <td>-0.0328</td>\n",
       "      <td>0.0019</td>\n",
       "      <td>0</td>\n",
       "      <td>55.625</td>\n",
       "      <td>0</td>\n",
       "      <td>0</td>\n",
       "      <td>2022-03-28 18:54:33</td>\n",
       "      <td>3</td>\n",
       "    </tr>\n",
       "    <tr>\n",
       "      <th>4</th>\n",
       "      <td>AAPL220401C00125000</td>\n",
       "      <td>REGULAR</td>\n",
       "      <td>WEEKLY</td>\n",
       "      <td>USD</td>\n",
       "      <td>CALL</td>\n",
       "      <td>TRUE</td>\n",
       "      <td>2022-03-23 15:12:34</td>\n",
       "      <td>2022-04-01</td>\n",
       "      <td>125.0</td>\n",
       "      <td>46.52</td>\n",
       "      <td>...</td>\n",
       "      <td>0.9376</td>\n",
       "      <td>0.0029</td>\n",
       "      <td>-0.6459</td>\n",
       "      <td>0.0226</td>\n",
       "      <td>0</td>\n",
       "      <td>51.850</td>\n",
       "      <td>0</td>\n",
       "      <td>0</td>\n",
       "      <td>2022-03-28 18:54:33</td>\n",
       "      <td>3</td>\n",
       "    </tr>\n",
       "  </tbody>\n",
       "</table>\n",
       "<p>5 rows × 27 columns</p>\n",
       "</div>"
      ],
      "text/plain": [
       "          contractName contractSize contractPeriod currency  type inTheMoney  \\\n",
       "0  AAPL220401C00105000      REGULAR         WEEKLY      USD  CALL       TRUE   \n",
       "1  AAPL220401C00110000      REGULAR         WEEKLY      USD  CALL       TRUE   \n",
       "2  AAPL220401C00115000      REGULAR         WEEKLY      USD  CALL       TRUE   \n",
       "3  AAPL220401C00120000      REGULAR         WEEKLY      USD  CALL       TRUE   \n",
       "4  AAPL220401C00125000      REGULAR         WEEKLY      USD  CALL       TRUE   \n",
       "\n",
       "     lastTradeDateTime expirationDate  strike  lastPrice  ...   delta   gamma  \\\n",
       "0  2022-03-23 10:22:03     2022-04-01   105.0      65.14  ...  0.9737  0.0012   \n",
       "1  2022-03-23 12:03:27     2022-04-01   110.0      61.88  ...  0.9951  0.0006   \n",
       "2  2022-03-23 11:14:37     2022-04-01   115.0      57.38  ...  0.9742  0.0015   \n",
       "3  2022-03-28 09:35:31     2022-04-01   120.0      53.73  ...  0.9964  0.0006   \n",
       "4  2022-03-23 15:12:34     2022-04-01   125.0      46.52  ...  0.9376  0.0029   \n",
       "\n",
       "    theta    vega  rho  theoretical  intrinsicValue  timeValue  \\\n",
       "0 -0.3807  0.0112    0       71.150               0          0   \n",
       "1 -0.0577  0.0026    0       65.650               0          0   \n",
       "2 -0.3026  0.0110    0       61.025               0          0   \n",
       "3 -0.0328  0.0019    0       55.625               0          0   \n",
       "4 -0.6459  0.0226    0       51.850               0          0   \n",
       "\n",
       "             updatedAt  daysBeforeExpiration  \n",
       "0  2022-03-28 18:54:33                     3  \n",
       "1  2022-03-28 18:54:33                     3  \n",
       "2  2022-03-28 18:54:33                     3  \n",
       "3  2022-03-28 18:54:33                     3  \n",
       "4  2022-03-28 18:54:33                     3  \n",
       "\n",
       "[5 rows x 27 columns]"
      ]
     },
     "execution_count": 5,
     "metadata": {},
     "output_type": "execute_result"
    }
   ],
   "source": [
    "front_week_calls = pd.DataFrame(front_week.loc['CALL']['options'])\n",
    "front_week_calls.head()"
   ]
  },
  {
   "cell_type": "code",
   "execution_count": 6,
   "metadata": {},
   "outputs": [
    {
     "data": {
      "text/plain": [
       "Index(['contractName', 'contractSize', 'contractPeriod', 'currency', 'type',\n",
       "       'inTheMoney', 'lastTradeDateTime', 'expirationDate', 'strike',\n",
       "       'lastPrice', 'bid', 'ask', 'change', 'changePercent', 'volume',\n",
       "       'openInterest', 'impliedVolatility', 'delta', 'gamma', 'theta', 'vega',\n",
       "       'rho', 'theoretical', 'intrinsicValue', 'timeValue', 'updatedAt',\n",
       "       'daysBeforeExpiration'],\n",
       "      dtype='object')"
      ]
     },
     "execution_count": 6,
     "metadata": {},
     "output_type": "execute_result"
    }
   ],
   "source": [
    "front_week_calls.columns"
   ]
  },
  {
   "cell_type": "code",
   "execution_count": 7,
   "metadata": {},
   "outputs": [
    {
     "data": {
      "text/plain": [
       "<matplotlib.collections.PathCollection at 0x138437ac0>"
      ]
     },
     "execution_count": 7,
     "metadata": {},
     "output_type": "execute_result"
    },
    {
     "data": {
      "image/png": "[encoded data removed]",
      "text/plain": [
       "<Figure size 432x288 with 1 Axes>"
      ]
     },
     "metadata": {
      "needs_background": "light"
     },
     "output_type": "display_data"
    }
   ],
   "source": [
    "plt.scatter(front_week_calls['strike'], front_week_calls['impliedVolatility'])"
   ]
  },
  {
   "cell_type": "markdown",
   "metadata": {},
   "source": [
    "Kind of a smirk, kind of weird. Want to figure out what's going on with the outliers.\n",
    "\n",
    "Maybe the front_month_calls will be less weird."
   ]
  },
  {
   "cell_type": "code",
   "execution_count": 8,
   "metadata": {},
   "outputs": [
    {
     "data": {
      "text/html": [
       "<div>\n",
       "<style scoped>\n",
       "    .dataframe tbody tr th:only-of-type {\n",
       "        vertical-align: middle;\n",
       "    }\n",
       "\n",
       "    .dataframe tbody tr th {\n",
       "        vertical-align: top;\n",
       "    }\n",
       "\n",
       "    .dataframe thead th {\n",
       "        text-align: right;\n",
       "    }\n",
       "</style>\n",
       "<table border=\"1\" class=\"dataframe\">\n",
       "  <thead>\n",
       "    <tr style=\"text-align: right;\">\n",
       "      <th></th>\n",
       "      <th>contractName</th>\n",
       "      <th>contractSize</th>\n",
       "      <th>contractPeriod</th>\n",
       "      <th>currency</th>\n",
       "      <th>type</th>\n",
       "      <th>inTheMoney</th>\n",
       "      <th>lastTradeDateTime</th>\n",
       "      <th>expirationDate</th>\n",
       "      <th>strike</th>\n",
       "      <th>lastPrice</th>\n",
       "      <th>...</th>\n",
       "      <th>delta</th>\n",
       "      <th>gamma</th>\n",
       "      <th>theta</th>\n",
       "      <th>vega</th>\n",
       "      <th>rho</th>\n",
       "      <th>theoretical</th>\n",
       "      <th>intrinsicValue</th>\n",
       "      <th>timeValue</th>\n",
       "      <th>updatedAt</th>\n",
       "      <th>daysBeforeExpiration</th>\n",
       "    </tr>\n",
       "  </thead>\n",
       "  <tbody>\n",
       "    <tr>\n",
       "      <th>0</th>\n",
       "      <td>AAPL220414C00050000</td>\n",
       "      <td>REGULAR</td>\n",
       "      <td>MONTHLY</td>\n",
       "      <td>USD</td>\n",
       "      <td>CALL</td>\n",
       "      <td>TRUE</td>\n",
       "      <td>2022-03-28 12:04:39</td>\n",
       "      <td>2022-04-14</td>\n",
       "      <td>50.0</td>\n",
       "      <td>123.50</td>\n",
       "      <td>...</td>\n",
       "      <td>0.9889</td>\n",
       "      <td>0.0003</td>\n",
       "      <td>-0.0934</td>\n",
       "      <td>0.0109</td>\n",
       "      <td>0</td>\n",
       "      <td>126.100</td>\n",
       "      <td>0</td>\n",
       "      <td>0</td>\n",
       "      <td>2022-03-28 18:54:34</td>\n",
       "      <td>16</td>\n",
       "    </tr>\n",
       "    <tr>\n",
       "      <th>1</th>\n",
       "      <td>AAPL220414C00055000</td>\n",
       "      <td>REGULAR</td>\n",
       "      <td>MONTHLY</td>\n",
       "      <td>USD</td>\n",
       "      <td>CALL</td>\n",
       "      <td>TRUE</td>\n",
       "      <td>2022-03-28 12:04:39</td>\n",
       "      <td>2022-04-14</td>\n",
       "      <td>55.0</td>\n",
       "      <td>118.50</td>\n",
       "      <td>...</td>\n",
       "      <td>0.9984</td>\n",
       "      <td>0.0001</td>\n",
       "      <td>-0.0099</td>\n",
       "      <td>0.0018</td>\n",
       "      <td>0</td>\n",
       "      <td>120.625</td>\n",
       "      <td>0</td>\n",
       "      <td>0</td>\n",
       "      <td>2022-03-28 18:54:34</td>\n",
       "      <td>16</td>\n",
       "    </tr>\n",
       "    <tr>\n",
       "      <th>2</th>\n",
       "      <td>AAPL220414C00060000</td>\n",
       "      <td>REGULAR</td>\n",
       "      <td>MONTHLY</td>\n",
       "      <td>USD</td>\n",
       "      <td>CALL</td>\n",
       "      <td>TRUE</td>\n",
       "      <td>2022-03-28 12:04:39</td>\n",
       "      <td>2022-04-14</td>\n",
       "      <td>60.0</td>\n",
       "      <td>93.55</td>\n",
       "      <td>...</td>\n",
       "      <td>0.0000</td>\n",
       "      <td>0.0000</td>\n",
       "      <td>0.0000</td>\n",
       "      <td>0.0000</td>\n",
       "      <td>0</td>\n",
       "      <td>0.000</td>\n",
       "      <td>0</td>\n",
       "      <td>0</td>\n",
       "      <td>2022-03-28 18:54:34</td>\n",
       "      <td>16</td>\n",
       "    </tr>\n",
       "    <tr>\n",
       "      <th>3</th>\n",
       "      <td>AAPL220414C00065000</td>\n",
       "      <td>REGULAR</td>\n",
       "      <td>MONTHLY</td>\n",
       "      <td>USD</td>\n",
       "      <td>CALL</td>\n",
       "      <td>TRUE</td>\n",
       "      <td>2022-03-07 14:39:06</td>\n",
       "      <td>2022-04-14</td>\n",
       "      <td>65.0</td>\n",
       "      <td>96.65</td>\n",
       "      <td>...</td>\n",
       "      <td>0.9954</td>\n",
       "      <td>0.0002</td>\n",
       "      <td>-0.0271</td>\n",
       "      <td>0.0050</td>\n",
       "      <td>0</td>\n",
       "      <td>110.700</td>\n",
       "      <td>0</td>\n",
       "      <td>0</td>\n",
       "      <td>2022-03-28 18:54:34</td>\n",
       "      <td>16</td>\n",
       "    </tr>\n",
       "    <tr>\n",
       "      <th>4</th>\n",
       "      <td>AAPL220414C00070000</td>\n",
       "      <td>REGULAR</td>\n",
       "      <td>MONTHLY</td>\n",
       "      <td>USD</td>\n",
       "      <td>CALL</td>\n",
       "      <td>TRUE</td>\n",
       "      <td>2022-03-08 13:28:06</td>\n",
       "      <td>2022-04-14</td>\n",
       "      <td>70.0</td>\n",
       "      <td>90.30</td>\n",
       "      <td>...</td>\n",
       "      <td>0.9882</td>\n",
       "      <td>0.0004</td>\n",
       "      <td>-0.0697</td>\n",
       "      <td>0.0116</td>\n",
       "      <td>0</td>\n",
       "      <td>105.950</td>\n",
       "      <td>0</td>\n",
       "      <td>0</td>\n",
       "      <td>2022-03-28 18:54:34</td>\n",
       "      <td>16</td>\n",
       "    </tr>\n",
       "  </tbody>\n",
       "</table>\n",
       "<p>5 rows × 27 columns</p>\n",
       "</div>"
      ],
      "text/plain": [
       "          contractName contractSize contractPeriod currency  type inTheMoney  \\\n",
       "0  AAPL220414C00050000      REGULAR        MONTHLY      USD  CALL       TRUE   \n",
       "1  AAPL220414C00055000      REGULAR        MONTHLY      USD  CALL       TRUE   \n",
       "2  AAPL220414C00060000      REGULAR        MONTHLY      USD  CALL       TRUE   \n",
       "3  AAPL220414C00065000      REGULAR        MONTHLY      USD  CALL       TRUE   \n",
       "4  AAPL220414C00070000      REGULAR        MONTHLY      USD  CALL       TRUE   \n",
       "\n",
       "     lastTradeDateTime expirationDate  strike  lastPrice  ...   delta   gamma  \\\n",
       "0  2022-03-28 12:04:39     2022-04-14    50.0     123.50  ...  0.9889  0.0003   \n",
       "1  2022-03-28 12:04:39     2022-04-14    55.0     118.50  ...  0.9984  0.0001   \n",
       "2  2022-03-28 12:04:39     2022-04-14    60.0      93.55  ...  0.0000  0.0000   \n",
       "3  2022-03-07 14:39:06     2022-04-14    65.0      96.65  ...  0.9954  0.0002   \n",
       "4  2022-03-08 13:28:06     2022-04-14    70.0      90.30  ...  0.9882  0.0004   \n",
       "\n",
       "    theta    vega  rho  theoretical  intrinsicValue  timeValue  \\\n",
       "0 -0.0934  0.0109    0      126.100               0          0   \n",
       "1 -0.0099  0.0018    0      120.625               0          0   \n",
       "2  0.0000  0.0000    0        0.000               0          0   \n",
       "3 -0.0271  0.0050    0      110.700               0          0   \n",
       "4 -0.0697  0.0116    0      105.950               0          0   \n",
       "\n",
       "             updatedAt  daysBeforeExpiration  \n",
       "0  2022-03-28 18:54:34                    16  \n",
       "1  2022-03-28 18:54:34                    16  \n",
       "2  2022-03-28 18:54:34                    16  \n",
       "3  2022-03-28 18:54:34                    16  \n",
       "4  2022-03-28 18:54:34                    16  \n",
       "\n",
       "[5 rows x 27 columns]"
      ]
     },
     "execution_count": 8,
     "metadata": {},
     "output_type": "execute_result"
    }
   ],
   "source": [
    "front_month_calls = pd.DataFrame(pd.DataFrame(response.loc[2]['data']).loc['CALL']['options'])\n",
    "front_month_calls.head()"
   ]
  },
  {
   "cell_type": "code",
   "execution_count": 9,
   "metadata": {},
   "outputs": [
    {
     "data": {
      "text/plain": [
       "<matplotlib.collections.PathCollection at 0x13854d5d0>"
      ]
     },
     "execution_count": 9,
     "metadata": {},
     "output_type": "execute_result"
    },
    {
     "data": {
      "image/png": "[encoded data removed]",
      "text/plain": [
       "<Figure size 432x288 with 1 Axes>"
      ]
     },
     "metadata": {
      "needs_background": "light"
     },
     "output_type": "display_data"
    }
   ],
   "source": [
    "plt.scatter(front_month_calls['strike'], front_month_calls['impliedVolatility'])"
   ]
  },
  {
   "cell_type": "markdown",
   "metadata": {},
   "source": [
    "A bit cleaner maybe. Maybe there's a good way to know if a data point is dodgy ahead of time, e.g. maybe it was last traded a long time ago so implied volatility could have changed since then. I don't yet know how exactly the API calculates the implied volatilities, this would be useful to know."
   ]
  },
  {
   "cell_type": "code",
   "execution_count": 11,
   "metadata": {},
   "outputs": [
    {
     "data": {
      "text/plain": [
       "<matplotlib.collections.PathCollection at 0x11ac8afb0>"
      ]
     },
     "execution_count": 11,
     "metadata": {},
     "output_type": "execute_result"
    },
    {
     "data": {
      "image/png": "[encoded data removed]",
      "text/plain": [
       "<Figure size 432x288 with 1 Axes>"
      ]
     },
     "metadata": {
      "needs_background": "light"
     },
     "output_type": "display_data"
    }
   ],
   "source": [
    "traded_recently = front_month_calls[front_month_calls['lastTradeDateTime'] >= '2022-03-28']\n",
    "plt.scatter(traded_recently['strike'], traded_recently['impliedVolatility'])"
   ]
  },
  {
   "cell_type": "markdown",
   "metadata": {},
   "source": [
    "So the ITM options are weird (the deeper the weirder), but I've heard that these are the ones that are least traded ≈ least important."
   ]
  },
  {
   "cell_type": "code",
   "execution_count": 12,
   "metadata": {},
   "outputs": [],
   "source": [
    "filtered = traded_recently[traded_recently['strike'] >= 160]"
   ]
  },
  {
   "cell_type": "code",
   "execution_count": 13,
   "metadata": {},
   "outputs": [
    {
     "data": {
      "text/plain": [
       "<matplotlib.collections.PathCollection at 0x13e132200>"
      ]
     },
     "execution_count": 13,
     "metadata": {},
     "output_type": "execute_result"
    },
    {
     "data": {
      "image/png": "[encoded data removed]",
      "text/plain": [
       "<Figure size 432x288 with 1 Axes>"
      ]
     },
     "metadata": {
      "needs_background": "light"
     },
     "output_type": "display_data"
    }
   ],
   "source": [
    "plt.scatter(filtered['strike'], filtered['impliedVolatility'])"
   ]
  },
  {
   "cell_type": "markdown",
   "metadata": {},
   "source": [
    "Good enough to do some cubic spline interpolation."
   ]
  },
  {
   "cell_type": "code",
   "execution_count": 14,
   "metadata": {},
   "outputs": [
    {
     "data": {
      "text/plain": [
       "[<matplotlib.lines.Line2D at 0x13f67f6d0>]"
      ]
     },
     "execution_count": 14,
     "metadata": {},
     "output_type": "execute_result"
    },
    {
     "data": {
      "image/png": "[encoded data removed]",
      "text/plain": [
       "<Figure size 432x288 with 1 Axes>"
      ]
     },
     "metadata": {
      "needs_background": "light"
     },
     "output_type": "display_data"
    }
   ],
   "source": [
    "from scipy.interpolate import CubicSpline\n",
    "import numpy as np\n",
    "\n",
    "cs = CubicSpline(filtered['strike'], filtered['impliedVolatility'])\n",
    "x_range = np.arange(160, 250, 0.1)\n",
    "plt.scatter(filtered['strike'], filtered['impliedVolatility'])\n",
    "plt.plot(x_range, cs(x_range), label='Cubic Spline')"
   ]
  },
  {
   "cell_type": "markdown",
   "metadata": {},
   "source": [
    "Not too shabby.\n",
    "\n",
    "## TODO\n",
    "\n",
    "- There's probably a simpler way to filter the data, look at volume perhaps? Good visualisation tool to help with this: scatterplots w cmap.\n",
    "- If not, there are defo ways to smooth out /denoise the data.\n",
    "- Figure out how the API calculates the implied volatilities.\n",
    "- Better API?"
   ]
  }
 ],
 "metadata": {
  "interpreter": {
   "hash": "77e01d97d4fe17b0e8b0da96ecfc0bf0dfcaa26a4e8a0c6ef2d51cb4cdca59be"
  },
  "kernelspec": {
   "display_name": "Python 3.10.4 ('volsurf')",
   "language": "python",
   "name": "python3"
  },
  "language_info": {
   "codemirror_mode": {
    "name": "ipython",
    "version": 3
   },
   "file_extension": ".py",
   "mimetype": "text/x-python",
   "name": "python",
   "nbconvert_exporter": "python",
   "pygments_lexer": "ipython3",
   "version": "3.10.4"
  },
  "orig_nbformat": 4
 },
 "nbformat": 4,
 "nbformat_minor": 2
}
